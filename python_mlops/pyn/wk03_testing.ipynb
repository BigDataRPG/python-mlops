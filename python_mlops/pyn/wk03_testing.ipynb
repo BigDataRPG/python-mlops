{
 "cells": [
  {
   "cell_type": "markdown",
   "metadata": {},
   "source": [
    "# Unittest"
   ]
  },
  {
   "cell_type": "code",
   "execution_count": 1,
   "metadata": {},
   "outputs": [],
   "source": [
    "# use unittest.TestCase as a real world example\n",
    "import unittest\n",
    "\n",
    "class Testing(unittest.TestCase):\n",
    "    pass\n",
    "\n",
    "tests = Testing()"
   ]
  },
  {
   "cell_type": "code",
   "execution_count": 2,
   "metadata": {},
   "outputs": [
    {
     "data": {
      "text/plain": [
       "<__main__.Testing testMethod=runTest>"
      ]
     },
     "execution_count": 2,
     "metadata": {},
     "output_type": "execute_result"
    }
   ],
   "source": [
    "tests"
   ]
  },
  {
   "cell_type": "code",
   "execution_count": 3,
   "metadata": {},
   "outputs": [
    {
     "name": "stdout",
     "output_type": "stream",
     "text": [
      "addClassCleanup\n",
      "addCleanup\n",
      "addTypeEqualityFunc\n",
      "assertAlmostEqual\n",
      "assertAlmostEquals\n",
      "assertCountEqual\n",
      "assertDictContainsSubset\n",
      "assertDictEqual\n",
      "assertEqual\n",
      "assertEquals\n",
      "assertFalse\n",
      "assertGreater\n",
      "assertGreaterEqual\n",
      "assertIn\n",
      "assertIs\n",
      "assertIsInstance\n",
      "assertIsNone\n",
      "assertIsNot\n",
      "assertIsNotNone\n",
      "assertLess\n",
      "assertLessEqual\n",
      "assertListEqual\n",
      "assertLogs\n",
      "assertMultiLineEqual\n",
      "assertNoLogs\n",
      "assertNotAlmostEqual\n",
      "assertNotAlmostEquals\n",
      "assertNotEqual\n",
      "assertNotEquals\n",
      "assertNotIn\n",
      "assertNotIsInstance\n",
      "assertNotRegex\n",
      "assertNotRegexpMatches\n",
      "assertRaises\n",
      "assertRaisesRegex\n",
      "assertRaisesRegexp\n",
      "assertRegex\n",
      "assertRegexpMatches\n",
      "assertSequenceEqual\n",
      "assertSetEqual\n",
      "assertTrue\n",
      "assertTupleEqual\n",
      "assertWarns\n",
      "assertWarnsRegex\n",
      "assert_\n",
      "countTestCases\n",
      "debug\n",
      "defaultTestResult\n",
      "doClassCleanups\n",
      "doCleanups\n",
      "enterClassContext\n",
      "enterContext\n",
      "fail\n",
      "failIf\n",
      "failIfAlmostEqual\n",
      "failIfEqual\n",
      "failUnless\n",
      "failUnlessAlmostEqual\n",
      "failUnlessEqual\n",
      "failUnlessRaises\n",
      "failureException\n",
      "id\n",
      "longMessage\n",
      "maxDiff\n",
      "run\n",
      "setUp\n",
      "setUpClass\n",
      "shortDescription\n",
      "skipTest\n",
      "subTest\n",
      "tearDown\n",
      "tearDownClass\n"
     ]
    }
   ],
   "source": [
    "for attribute in dir(tests):\n",
    "    if attribute.startswith('_'):\n",
    "        continue\n",
    "    print(attribute)"
   ]
  },
  {
   "cell_type": "code",
   "execution_count": 30,
   "metadata": {},
   "outputs": [],
   "source": [
    "class TestExample(unittest.TestCase):\n",
    "\n",
    "  def test_assertion(self):\n",
    "    self.assertEquals(\"some string\", \"some other\")"
   ]
  },
  {
   "cell_type": "code",
   "execution_count": 31,
   "metadata": {},
   "outputs": [
    {
     "name": "stderr",
     "output_type": "stream",
     "text": [
      "test_assertion (__main__.TestExample.test_assertion) ... /var/folders/0d/64vz7pws7mxf06_cdkdnxrpc1mrlgw/T/ipykernel_62014/3696234831.py:4: DeprecationWarning: Please use assertEqual instead.\n",
      "  self.assertEquals(\"some string\", \"some other\")\n",
      "FAIL\n",
      "\n",
      "======================================================================\n",
      "FAIL: test_assertion (__main__.TestExample.test_assertion)\n",
      "----------------------------------------------------------------------\n",
      "Traceback (most recent call last):\n",
      "  File \"/var/folders/0d/64vz7pws7mxf06_cdkdnxrpc1mrlgw/T/ipykernel_62014/3696234831.py\", line 4, in test_assertion\n",
      "    self.assertEquals(\"some string\", \"some other\")\n",
      "AssertionError: 'some string' != 'some other'\n",
      "- some string\n",
      "+ some other\n",
      "\n",
      "\n",
      "----------------------------------------------------------------------\n",
      "Ran 1 test in 0.002s\n",
      "\n",
      "FAILED (failures=1)\n"
     ]
    },
    {
     "data": {
      "text/plain": [
       "<unittest.main.TestProgram at 0x10a04d450>"
      ]
     },
     "execution_count": 31,
     "metadata": {},
     "output_type": "execute_result"
    }
   ],
   "source": [
    "unittest.main(argv=[''], verbosity=2, exit=False)"
   ]
  },
  {
   "cell_type": "code",
   "execution_count": 32,
   "metadata": {},
   "outputs": [
    {
     "name": "stderr",
     "output_type": "stream",
     "text": [
      "test_assertion (__main__.TestExample.test_assertion) ... ok\n",
      "\n",
      "----------------------------------------------------------------------\n",
      "Ran 1 test in 0.002s\n",
      "\n",
      "OK\n"
     ]
    },
    {
     "data": {
      "text/plain": [
       "<unittest.main.TestProgram at 0x10a04c550>"
      ]
     },
     "execution_count": 32,
     "metadata": {},
     "output_type": "execute_result"
    }
   ],
   "source": [
    "class TestExample(unittest.TestCase):\n",
    "\n",
    "  def test_assertion(self):\n",
    "    self.assertEqual(2, 2)\n",
    "\n",
    "unittest.main(argv=[''], verbosity=2, exit=False)"
   ]
  },
  {
   "cell_type": "markdown",
   "metadata": {},
   "source": [
    "# Welcome to Pytest\n",
    "The land where everything is simpler and practical:\n",
    "\n",
    "* A command-line tool, but also a framework\n",
    "* Doesn't force one to use the framework\n",
    "* No classes required\n",
    "* Can run functions\n",
    "* Allows simple `assert` calls in tests: operators: `==`, `!=`, `>`, \n",
    "\n",
    "* Ultra-rich output, which can be turned off!\n",
    "\n",
    "_Pytest makes you want to actually write tests_"
   ]
  },
  {
   "cell_type": "code",
   "execution_count": 34,
   "metadata": {},
   "outputs": [],
   "source": [
    "assert \"this string is long\" == \"this string is long\", \"this thing failed\""
   ]
  },
  {
   "cell_type": "markdown",
   "metadata": {},
   "source": [
    "## Test Function"
   ]
  },
  {
   "cell_type": "code",
   "execution_count": 24,
   "metadata": {},
   "outputs": [],
   "source": [
    "def str_to_int(string):\n",
    "    \"\"\"\n",
    "    Parses a string number into an integer, optionally converting to a float\n",
    "    and rounding down.\n",
    "    You can pass \"1.1\" which returns 1\n",
    "    [\"1\"] -> raises RuntimeError\n",
    "    \"\"\"\n",
    "    error_msg = \"Unable to convert to integer: '%s'\" % str(string)\n",
    "    try:\n",
    "        integer = float(string.replace(',', '.'))\n",
    "    except AttributeError:\n",
    "        # this might be a integer already, so try to use it, otherwise raise\n",
    "        # the original exception\n",
    "        if isinstance(string, (int, float)):\n",
    "            integer = string\n",
    "        else:\n",
    "            raise RuntimeError(error_msg)\n",
    "    except (TypeError, ValueError):\n",
    "        raise RuntimeError(error_msg)\n",
    "\n",
    "    return int(integer)"
   ]
  },
  {
   "cell_type": "code",
   "execution_count": 26,
   "metadata": {},
   "outputs": [
    {
     "data": {
      "text/plain": [
       "20"
      ]
     },
     "execution_count": 26,
     "metadata": {},
     "output_type": "execute_result"
    }
   ],
   "source": [
    "str_to_int('20.222')"
   ]
  },
  {
   "cell_type": "code",
   "execution_count": 27,
   "metadata": {},
   "outputs": [],
   "source": [
    "# tests floats\n",
    "def test_rounds_down():\n",
    "    result = str_to_int('1.99')\n",
    "    assert result == 1\n",
    "\n",
    "\n",
    "def test_round_down_lesser_half():\n",
    "    result = str_to_int('1.2')\n",
    "    assert result == 1"
   ]
  },
  {
   "cell_type": "code",
   "execution_count": null,
   "metadata": {},
   "outputs": [],
   "source": []
  },
  {
   "cell_type": "code",
   "execution_count": null,
   "metadata": {},
   "outputs": [],
   "source": []
  },
  {
   "cell_type": "code",
   "execution_count": null,
   "metadata": {},
   "outputs": [],
   "source": []
  },
  {
   "cell_type": "code",
   "execution_count": null,
   "metadata": {},
   "outputs": [],
   "source": []
  },
  {
   "cell_type": "code",
   "execution_count": null,
   "metadata": {},
   "outputs": [],
   "source": []
  },
  {
   "cell_type": "code",
   "execution_count": null,
   "metadata": {},
   "outputs": [],
   "source": []
  },
  {
   "cell_type": "markdown",
   "metadata": {},
   "source": [
    "## Test Class"
   ]
  },
  {
   "cell_type": "code",
   "execution_count": 28,
   "metadata": {},
   "outputs": [],
   "source": [
    "class TestStrToInt:\n",
    "\n",
    "    def test_rounds_down(self):\n",
    "        result = str_to_int('1.99')\n",
    "        assert result == 2\n",
    "\n",
    "    def test_round_down_lesser_half(self):\n",
    "        result = str_to_int('1.2')\n",
    "        assert result == 2"
   ]
  },
  {
   "cell_type": "code",
   "execution_count": 23,
   "metadata": {},
   "outputs": [
    {
     "ename": "TypeError",
     "evalue": "TestMyClass.test_my_method() missing 1 required positional argument: 'self'",
     "output_type": "error",
     "traceback": [
      "\u001b[0;31m---------------------------------------------------------------------------\u001b[0m",
      "\u001b[0;31mTypeError\u001b[0m                                 Traceback (most recent call last)",
      "Cell \u001b[0;32mIn[23], line 2\u001b[0m\n\u001b[1;32m      1\u001b[0m test_class \u001b[38;5;241m=\u001b[39m TestMyClass\n\u001b[0;32m----> 2\u001b[0m \u001b[43mtest_class\u001b[49m\u001b[38;5;241;43m.\u001b[39;49m\u001b[43mtest_my_method\u001b[49m\u001b[43m(\u001b[49m\u001b[43m)\u001b[49m\n",
      "\u001b[0;31mTypeError\u001b[0m: TestMyClass.test_my_method() missing 1 required positional argument: 'self'"
     ]
    }
   ],
   "source": [
    "test_class = TestMyClass\n",
    "test_class.test_my_method()"
   ]
  },
  {
   "cell_type": "code",
   "execution_count": null,
   "metadata": {},
   "outputs": [],
   "source": []
  },
  {
   "cell_type": "markdown",
   "metadata": {},
   "source": [
    "## Parameterize"
   ]
  },
  {
   "cell_type": "code",
   "execution_count": 29,
   "metadata": {},
   "outputs": [
    {
     "ename": "ModuleNotFoundError",
     "evalue": "No module named 'utils'",
     "output_type": "error",
     "traceback": [
      "\u001b[0;31m---------------------------------------------------------------------------\u001b[0m",
      "\u001b[0;31mModuleNotFoundError\u001b[0m                       Traceback (most recent call last)",
      "Cell \u001b[0;32mIn[29], line 2\u001b[0m\n\u001b[1;32m      1\u001b[0m \u001b[38;5;28;01mimport\u001b[39;00m \u001b[38;5;21;01mpytest\u001b[39;00m\n\u001b[0;32m----> 2\u001b[0m \u001b[38;5;28;01mfrom\u001b[39;00m \u001b[38;5;21;01mutils\u001b[39;00m \u001b[38;5;28;01mimport\u001b[39;00m str_to_bool\n",
      "\u001b[0;31mModuleNotFoundError\u001b[0m: No module named 'utils'"
     ]
    }
   ],
   "source": [
    "import pytest\n",
    "from utils import str_to_bool"
   ]
  },
  {
   "cell_type": "code",
   "execution_count": null,
   "metadata": {},
   "outputs": [],
   "source": [
    "\n",
    "\n",
    "\n",
    "def test_yes_is_true():\n",
    "    result = str_to_bool('yes')\n",
    "    assert result is True\n",
    "\n",
    "\n",
    "def test_y_is_true():\n",
    "    result = str_to_bool('y')\n",
    "    assert result is True\n",
    "\n",
    "\n",
    "\n",
    "@pytest.mark.parametrize('value', ['y', 'yes', ''])\n",
    "def test_is_true(value):\n",
    "    result = str_to_bool(value)\n",
    "    assert result is True\n"
   ]
  },
  {
   "cell_type": "code",
   "execution_count": null,
   "metadata": {},
   "outputs": [],
   "source": []
  },
  {
   "cell_type": "code",
   "execution_count": null,
   "metadata": {},
   "outputs": [],
   "source": []
  },
  {
   "cell_type": "code",
   "execution_count": null,
   "metadata": {},
   "outputs": [],
   "source": []
  },
  {
   "cell_type": "code",
   "execution_count": null,
   "metadata": {},
   "outputs": [],
   "source": []
  }
 ],
 "metadata": {
  "kernelspec": {
   "display_name": "python-mlops",
   "language": "python",
   "name": "python3"
  },
  "language_info": {
   "codemirror_mode": {
    "name": "ipython",
    "version": 3
   },
   "file_extension": ".py",
   "mimetype": "text/x-python",
   "name": "python",
   "nbconvert_exporter": "python",
   "pygments_lexer": "ipython3",
   "version": "3.11.5"
  }
 },
 "nbformat": 4,
 "nbformat_minor": 2
}
